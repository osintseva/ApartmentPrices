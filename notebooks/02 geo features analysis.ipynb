{
  "nbformat": 4,
  "nbformat_minor": 0,
  "metadata": {
    "colab": {
      "provenance": []
    },
    "kernelspec": {
      "name": "python3",
      "display_name": "Python 3"
    },
    "language_info": {
      "name": "python"
    }
  },
  "cells": [
    {
      "cell_type": "code",
      "execution_count": null,
      "metadata": {
        "id": "PW4L6TBn0d7d"
      },
      "outputs": [],
      "source": [
        "import numpy as np\n",
        "import pandas as pd\n",
        "\n",
        "import matplotlib.pyplot as plt\n",
        "import seaborn as sns"
      ]
    },
    {
      "cell_type": "code",
      "source": [
        "import re\n",
        "from google.colab import drive\n",
        "drive.mount('/content/drive')"
      ],
      "metadata": {
        "colab": {
          "base_uri": "https://localhost:8080/"
        },
        "id": "9zxfMien1Vid",
        "outputId": "e251cacf-571f-44cd-8287-db4cb679c2be"
      },
      "execution_count": null,
      "outputs": [
        {
          "output_type": "stream",
          "name": "stdout",
          "text": [
            "Mounted at /content/drive\n"
          ]
        }
      ]
    },
    {
      "cell_type": "code",
      "source": [
        "df = pd.read_csv(\"/content/drive/MyDrive/Colab Notebooks/df_cleaned.csv\")"
      ],
      "metadata": {
        "id": "h_s1shm31Xdj"
      },
      "execution_count": null,
      "outputs": []
    },
    {
      "cell_type": "code",
      "source": [
        "pip install folium"
      ],
      "metadata": {
        "colab": {
          "base_uri": "https://localhost:8080/"
        },
        "id": "kY_ryDlf1sab",
        "outputId": "842fb35a-a1a0-4627-b663-2962955ace6a"
      },
      "execution_count": null,
      "outputs": [
        {
          "output_type": "stream",
          "name": "stdout",
          "text": [
            "Requirement already satisfied: folium in /usr/local/lib/python3.10/dist-packages (0.17.0)\n",
            "Requirement already satisfied: branca>=0.6.0 in /usr/local/lib/python3.10/dist-packages (from folium) (0.8.0)\n",
            "Requirement already satisfied: jinja2>=2.9 in /usr/local/lib/python3.10/dist-packages (from folium) (3.1.4)\n",
            "Requirement already satisfied: numpy in /usr/local/lib/python3.10/dist-packages (from folium) (1.26.4)\n",
            "Requirement already satisfied: requests in /usr/local/lib/python3.10/dist-packages (from folium) (2.32.3)\n",
            "Requirement already satisfied: xyzservices in /usr/local/lib/python3.10/dist-packages (from folium) (2024.9.0)\n",
            "Requirement already satisfied: MarkupSafe>=2.0 in /usr/local/lib/python3.10/dist-packages (from jinja2>=2.9->folium) (3.0.2)\n",
            "Requirement already satisfied: charset-normalizer<4,>=2 in /usr/local/lib/python3.10/dist-packages (from requests->folium) (3.4.0)\n",
            "Requirement already satisfied: idna<4,>=2.5 in /usr/local/lib/python3.10/dist-packages (from requests->folium) (3.10)\n",
            "Requirement already satisfied: urllib3<3,>=1.21.1 in /usr/local/lib/python3.10/dist-packages (from requests->folium) (2.2.3)\n",
            "Requirement already satisfied: certifi>=2017.4.17 in /usr/local/lib/python3.10/dist-packages (from requests->folium) (2024.8.30)\n"
          ]
        }
      ]
    },
    {
      "cell_type": "code",
      "source": [
        "import folium\n",
        "from folium.plugins import HeatMap\n",
        "from branca.colormap import LinearColormap\n",
        "\n",
        "df['Log_Price'] = np.log1p(df['Price'])\n",
        "\n",
        "# Create a base map centered on the mean coordinates\n",
        "center_lat = df['Latitude'].mean()\n",
        "center_lon = df['Longitude'].mean()\n",
        "m = folium.Map(location=[center_lat, center_lon], zoom_start=11)\n",
        "\n",
        "# Create a color map\n",
        "color_map = LinearColormap(colors=['blue', 'red', 'yellow'], vmin=df['Log_Price'].min(), vmax=df['Log_Price'].max())\n",
        "\n",
        "# Add points to the map\n",
        "for idx, row in df.iterrows():\n",
        "    folium.CircleMarker(\n",
        "        location=[row['Latitude'], row['Longitude']],\n",
        "        radius=5,\n",
        "        popup=f\"Price: {row['Log_Price']:,.0f}\",\n",
        "        color=color_map(row['Log_Price']),\n",
        "        fill=True,\n",
        "        fillColor=color_map(row['Log_Price']),\n",
        "        fillOpacity=0.7\n",
        "    ).add_to(m)\n",
        "\n",
        "# Add color map to the map\n",
        "color_map.add_to(m)\n",
        "color_map.caption = 'Home Sale Price'\n",
        "\n",
        "# Save the map\n",
        "map_path = '/content/drive/MyDrive/Colab Notebooks/prices_map.html'\n",
        "m.save(map_path)"
      ],
      "metadata": {
        "id": "Ca8ESBZG349H"
      },
      "execution_count": null,
      "outputs": []
    },
    {
      "cell_type": "code",
      "source": [
        "# Calculate Log_Price if not already done\n",
        "df['Log_Price'] = np.log1p(df['Price'])\n",
        "\n",
        "# Calculate average Log_Price for each district\n",
        "district_avg_prices = df.groupby('District ID')['Log_Price'].mean().reset_index()\n",
        "district_avg_prices.columns = ['District ID', 'Mean_Log_Price_District']\n",
        "\n",
        "# Merge this back to the original dataframe\n",
        "df = df.merge(district_avg_prices, on='District ID', how='left')"
      ],
      "metadata": {
        "id": "rcpiqxbi5i-J"
      },
      "execution_count": null,
      "outputs": []
    },
    {
      "cell_type": "code",
      "source": [
        "m = folium.Map(location=[center_lat, center_lon], zoom_start=11)\n",
        "\n",
        "# Create a color map based on district average prices\n",
        "color_map = LinearColormap(colors=['blue', 'red', 'yellow'],\n",
        "                           vmin=df['Mean_Log_Price_District'].min(),\n",
        "                           vmax=df['Mean_Log_Price_District'].max())\n",
        "\n",
        "# Add points to the map\n",
        "for idx, row in df.iterrows():\n",
        "    folium.CircleMarker(\n",
        "        location=[row['Latitude'], row['Longitude']],\n",
        "        radius=5,\n",
        "        popup=f\"District ID: {row['District ID']}<br>District Avg Log Price: {row['Mean_Log_Price_District']:.2f}<br>Actual Log Price: {row['Log_Price']:.2f}\",\n",
        "        color=color_map(row['Mean_Log_Price_District']),\n",
        "        fill=True,\n",
        "        fillColor=color_map(row['Mean_Log_Price_District']),\n",
        "        fillOpacity=0.7\n",
        "    ).add_to(m)\n",
        "\n",
        "# Add color map to the map\n",
        "color_map.add_to(m)\n",
        "color_map.caption = 'Average District Home Sale Price (Log Scale)'\n",
        "\n",
        "# Save the map\n",
        "map_path = '/content/drive/MyDrive/Colab Notebooks/district_prices_map.html'\n",
        "m.save(map_path)\n",
        "\n",
        "print(f\"Map has been saved to {map_path}\")"
      ],
      "metadata": {
        "colab": {
          "base_uri": "https://localhost:8080/"
        },
        "id": "gbyKmgOM1l5H",
        "outputId": "bfe6ad6c-d9a6-4778-cb1a-671f37a32654"
      },
      "execution_count": null,
      "outputs": [
        {
          "output_type": "stream",
          "name": "stdout",
          "text": [
            "Map has been saved to /content/drive/MyDrive/Colab Notebooks/district_prices_map.html\n"
          ]
        }
      ]
    },
    {
      "cell_type": "markdown",
      "source": [
        "Застосуємо кластеризацію"
      ],
      "metadata": {
        "id": "0FAq7TnW7BnU"
      }
    },
    {
      "cell_type": "code",
      "source": [
        "# get Price per Square Meter and apply log transformation\n",
        "\n",
        "df['Log_Price_per_sqm'] = np.log1p(df['Price per sqm'])"
      ],
      "metadata": {
        "id": "8m9e4st01oQX"
      },
      "execution_count": null,
      "outputs": []
    },
    {
      "cell_type": "code",
      "source": [
        "from sklearn.cluster import KMeans\n",
        "from sklearn.preprocessing import StandardScaler\n",
        "import matplotlib.pyplot as plt\n",
        "\n",
        "# Select features for clustering\n",
        "features = ['Latitude', 'Longitude', 'Log_Price_per_sqm']\n",
        "\n",
        "# Normalize the features\n",
        "scaler = StandardScaler()\n",
        "scaled_features = scaler.fit_transform(df[features])\n",
        "\n",
        "# Perform elbow method\n",
        "inertias = []\n",
        "max_clusters = 30\n",
        "\n",
        "for k in range(1, max_clusters+1):\n",
        "    kmeans = KMeans(n_clusters=k, random_state=42)\n",
        "    kmeans.fit(scaled_features)\n",
        "    inertias.append(kmeans.inertia_)\n",
        "\n",
        "# Plot elbow curve\n",
        "plt.figure(figsize=(10, 6))\n",
        "plt.plot(range(1, max_clusters+1), inertias, marker='o')\n",
        "plt.xlabel('Number of clusters (k)')\n",
        "plt.ylabel('Inertia')\n",
        "plt.title('Elbow Method for Optimal k')\n",
        "plt.show()"
      ],
      "metadata": {
        "colab": {
          "base_uri": "https://localhost:8080/",
          "height": 573
        },
        "id": "KwIftoM09nF1",
        "outputId": "a9346a8f-8ec0-4f3d-8a8b-e5ba52c55166"
      },
      "execution_count": null,
      "outputs": [
        {
          "output_type": "display_data",
          "data": {
            "text/plain": [
              "<Figure size 1000x600 with 1 Axes>"
            ],
            "image/png": "[encoded data removed]"
          },
          "metadata": {}
        }
      ]
    },
    {
      "cell_type": "code",
      "source": [
        "# Choose the optimal number of clusters based on the elbow method\n",
        "n_clusters = 15  # Replace this with the number you determined from the elbow plot\n",
        "\n",
        "# Perform K-means clustering\n",
        "kmeans = KMeans(n_clusters=n_clusters, random_state=42)\n",
        "df['Cluster'] = kmeans.fit_predict(scaled_features)\n",
        "\n",
        "# Create a map\n",
        "m = folium.Map(location=[df['Latitude'].mean(), df['Longitude'].mean()], zoom_start=11)\n",
        "\n",
        "# Create a color map for clusters\n",
        "colors = ['red', 'blue', 'green', 'purple', 'orange', 'darkred', 'lightred', 'beige', 'darkblue', 'darkgreen', 'cadetblue', 'darkpurple', 'white', 'pink', 'lightblue', 'lightgreen', 'gray', 'black', 'lightgray']\n",
        "\n",
        "for idx, row in df.iterrows():\n",
        "    folium.CircleMarker(\n",
        "        location=[row['Latitude'], row['Longitude']],\n",
        "        radius=5,\n",
        "        popup=f\"Cluster: {row['Cluster']}<br>Log Price per sqm: {row['Log_Price_per_sqm']:.2f}\",\n",
        "        color=colors[row['Cluster'] % len(colors)],\n",
        "        fill=True,\n",
        "        fillColor=colors[row['Cluster'] % len(colors)],\n",
        "        fillOpacity=0.7\n",
        "    ).add_to(m)\n",
        "\n",
        "# Save the map\n",
        "m.save('/content/drive/MyDrive/Colab Notebooks/clustered_map_price_per_sqm.html')\n",
        "\n",
        "# Analyze clusters\n",
        "cluster_summary = df.groupby('Cluster').agg({\n",
        "    'Log_Price_per_sqm': 'mean',\n",
        "    'Area_total': 'mean',\n",
        "    'Rooms': 'mean',\n",
        "    'Latitude': 'mean',\n",
        "    'Longitude': 'mean'\n",
        "}).reset_index()\n",
        "\n",
        "print(cluster_summary)"
      ],
      "metadata": {
        "colab": {
          "base_uri": "https://localhost:8080/"
        },
        "id": "ky2y7q9d9yFr",
        "outputId": "2ee77fd7-fe63-4f0c-8a8e-78e321a6cd72"
      },
      "execution_count": null,
      "outputs": [
        {
          "output_type": "stream",
          "name": "stdout",
          "text": [
            "    Cluster  Log_Price_per_sqm  Area_total     Rooms   Latitude  Longitude\n",
            "0         0          11.300488   60.781448  1.768966  50.477266  30.408678\n",
            "1         1          10.616064   69.056985  2.291707  50.416796  30.638016\n",
            "2         2          11.707468  102.348768  2.514692  50.414461  30.539909\n",
            "3         3          10.996388   75.658855  2.278381  50.448845  30.473360\n",
            "4         4          10.596333   58.100786  2.064920  50.505073  30.607627\n",
            "5         5          11.192636   60.443131  1.732017  50.378225  30.472200\n",
            "6         6          11.033987   63.216479  1.950688  50.456721  30.607411\n",
            "7         7          11.055774   70.037371  2.047414  50.509454  30.491969\n",
            "8         8          11.251438   88.318901  2.367382  50.420892  30.523056\n",
            "9         9          10.716628   67.660338  2.215385  50.399337  30.486516\n",
            "10       10          11.079142   65.958823  1.832117  50.404304  30.630212\n",
            "11       11          11.554867   93.729649  2.444245  50.456133  30.498134\n",
            "12       12          10.699009   61.569965  1.972518  50.503009  30.438618\n",
            "13       13          12.166742  140.453609  3.142202  50.426185  30.530791\n",
            "14       14          10.709192   57.095972  2.021077  50.446665  30.387187\n"
          ]
        }
      ]
    },
    {
      "cell_type": "markdown",
      "source": [
        "кластери виглядають дуже перемішаними і не дають кращої ідеї розподілу ніж попередня мапа. поки що для початкових експериментів кластери застосовувати я не буду, спробую додати їх в кінці якщо всі інші додаткові фічі не допоможуть.\n",
        "\n",
        "\n",
        "---\n",
        "\n",
        "\n",
        "\n",
        "---\n",
        "\n"
      ],
      "metadata": {
        "id": "uiHsu4p4vfGW"
      }
    },
    {
      "cell_type": "code",
      "source": [
        "import folium\n",
        "from folium.plugins import HeatMap\n",
        "from branca.colormap import LinearColormap\n",
        "import numpy as np\n",
        "\n",
        "# Ensure 'Log_Price' is calculated\n",
        "df['Log_Price'] = np.log1p(df['Price'])\n",
        "\n",
        "# Calculate average Log_Price for each district\n",
        "district_avg_prices = df.groupby('District ID')['Log_Price'].mean().reset_index()\n",
        "district_avg_prices.columns = ['District ID', 'Mean_Log_Price_District']\n",
        "\n",
        "# Merge this back to the original dataframe\n",
        "df = df.merge(district_avg_prices, on='District ID', how='left')\n",
        "\n",
        "# Create a base map centered on the mean coordinates, using the \"stamentoner\" tile for a cleaner look\n",
        "center_lat = df['Latitude'].mean()\n",
        "center_lon = df['Longitude'].mean()\n",
        "m = folium.Map(location=[center_lat, center_lon], zoom_start=11, tiles=\"cartodbpositron\")  # Change tiles to 'cartodbpositron'\n",
        "\n",
        "# Create a color map based on district average prices\n",
        "color_map = LinearColormap(colors=['blue', 'red', 'yellow'],\n",
        "                           vmin=df['Mean_Log_Price_District'].min(),\n",
        "                           vmax=df['Mean_Log_Price_District'].max())\n",
        "\n",
        "# Add points to the map\n",
        "for idx, row in df.iterrows():\n",
        "    folium.CircleMarker(\n",
        "        location=[row['Latitude'], row['Longitude']],\n",
        "        radius=5,\n",
        "        popup=f\"District ID: {row['District ID']}<br>District Avg Log Price: {row['Mean_Log_Price_District']:.2f}<br>Actual Log Price: {row['Log_Price']:.2f}\",\n",
        "        color=color_map(row['Mean_Log_Price_District']),\n",
        "        fill=True,\n",
        "        fillColor=color_map(row['Mean_Log_Price_District']),\n",
        "        fillOpacity=0.7\n",
        "    ).add_to(m)\n",
        "\n",
        "# Add color map to the map\n",
        "color_map.add_to(m)\n",
        "color_map.caption = 'Average District Home Sale Price (Log Scale)'\n",
        "\n",
        "# Save the map\n",
        "map_path = '/content/drive/MyDrive/Colab Notebooks/district_prices_map_pretty.html'\n",
        "m.save(map_path)\n",
        "\n",
        "print(f\"Map has been saved to {map_path}\")\n"
      ],
      "metadata": {
        "id": "qHc841HR3xKu",
        "colab": {
          "base_uri": "https://localhost:8080/"
        },
        "outputId": "bbd82954-8bfe-46b7-d7a9-b995b5ada93e"
      },
      "execution_count": null,
      "outputs": [
        {
          "output_type": "stream",
          "name": "stdout",
          "text": [
            "Map has been saved to /content/drive/MyDrive/Colab Notebooks/district_prices_map_pretty.html\n"
          ]
        }
      ]
    },
    {
      "cell_type": "code",
      "source": [],
      "metadata": {
        "id": "RU7lCGVUqk1z"
      },
      "execution_count": null,
      "outputs": []
    }
  ]
}